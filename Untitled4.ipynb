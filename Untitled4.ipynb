{
  "nbformat": 4,
  "nbformat_minor": 0,
  "metadata": {
    "colab": {
      "provenance": [],
      "authorship_tag": "ABX9TyPf3albMSXQV6Fc3yvVOqsF",
      "include_colab_link": true
    },
    "kernelspec": {
      "name": "python3",
      "display_name": "Python 3"
    },
    "language_info": {
      "name": "python"
    }
  },
  "cells": [
    {
      "cell_type": "markdown",
      "metadata": {
        "id": "view-in-github",
        "colab_type": "text"
      },
      "source": [
        "<a href=\"https://colab.research.google.com/github/chkomalipriyadarshini/Brain-Vault/blob/main/Untitled4.ipynb\" target=\"_parent\"><img src=\"https://colab.research.google.com/assets/colab-badge.svg\" alt=\"Open In Colab\"/></a>"
      ]
    },
    {
      "cell_type": "code",
      "execution_count": 5,
      "metadata": {
        "colab": {
          "base_uri": "https://localhost:8080/"
        },
        "id": "Uj4R62KonYEV",
        "outputId": "4e62f484-985a-4768-b65d-c90b0cfaa895"
      },
      "outputs": [
        {
          "output_type": "stream",
          "name": "stdout",
          "text": [
            "Requirement already satisfied: tavily-python in /usr/local/lib/python3.11/dist-packages (0.7.2)\n",
            "Requirement already satisfied: requests in /usr/local/lib/python3.11/dist-packages (from tavily-python) (2.32.3)\n",
            "Requirement already satisfied: tiktoken>=0.5.1 in /usr/local/lib/python3.11/dist-packages (from tavily-python) (0.9.0)\n",
            "Requirement already satisfied: httpx in /usr/local/lib/python3.11/dist-packages (from tavily-python) (0.28.1)\n",
            "Requirement already satisfied: regex>=2022.1.18 in /usr/local/lib/python3.11/dist-packages (from tiktoken>=0.5.1->tavily-python) (2024.11.6)\n",
            "Requirement already satisfied: charset-normalizer<4,>=2 in /usr/local/lib/python3.11/dist-packages (from requests->tavily-python) (3.4.2)\n",
            "Requirement already satisfied: idna<4,>=2.5 in /usr/local/lib/python3.11/dist-packages (from requests->tavily-python) (3.10)\n",
            "Requirement already satisfied: urllib3<3,>=1.21.1 in /usr/local/lib/python3.11/dist-packages (from requests->tavily-python) (2.4.0)\n",
            "Requirement already satisfied: certifi>=2017.4.17 in /usr/local/lib/python3.11/dist-packages (from requests->tavily-python) (2025.4.26)\n",
            "Requirement already satisfied: anyio in /usr/local/lib/python3.11/dist-packages (from httpx->tavily-python) (4.9.0)\n",
            "Requirement already satisfied: httpcore==1.* in /usr/local/lib/python3.11/dist-packages (from httpx->tavily-python) (1.0.9)\n",
            "Requirement already satisfied: h11>=0.16 in /usr/local/lib/python3.11/dist-packages (from httpcore==1.*->httpx->tavily-python) (0.16.0)\n",
            "Requirement already satisfied: sniffio>=1.1 in /usr/local/lib/python3.11/dist-packages (from anyio->httpx->tavily-python) (1.3.1)\n",
            "Requirement already satisfied: typing_extensions>=4.5 in /usr/local/lib/python3.11/dist-packages (from anyio->httpx->tavily-python) (4.13.2)\n"
          ]
        }
      ],
      "source": [
        "pip install tavily-python"
      ]
    },
    {
      "cell_type": "code",
      "source": [
        "from tavily import TavilyClient\n",
        "tavily_client = TavilyClient(api_key=\"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\")\n",
        "response = tavily_client.search(\"What is Ai\")\n",
        "print(response)"
      ],
      "metadata": {
        "colab": {
          "base_uri": "https://localhost:8080/"
        },
        "id": "gKtcwKhwni0D",
        "outputId": "9f37558f-0b66-4c0d-c33d-ea6b54b30917"
      },
      "execution_count": 6,
      "outputs": [
        {
          "output_type": "stream",
          "name": "stdout",
          "text": [
            "{'query': 'What is Ai', 'follow_up_questions': None, 'answer': None, 'images': [], 'results': [{'title': 'What is AI? - GeeksforGeeks', 'url': 'https://www.geeksforgeeks.org/what-is-ai/', 'content': 'What is AI? What is AI? Artificial Intelligence (AI) refers to the development of computer systems of performing tasks that require human intelligence. General AI, also known as Strong AI or Artificial General Intelligence (AGI), refers to artificial intelligence systems that replicate human-like cognitive abilities and understanding across a wide range of tasks and domains. Artificial Intelligence (AI) uses a wide range of techniques and approaches that enable machines to simulate human-like intelligence and perform tasks that traditionally require human assistance. The future of AI is likely to involve continued advancements in machine learning, natural language processing, and computer vision, which will enable AI systems to become increasingly capable and integrated into a wide range of applications and industries.', 'score': 0.8969848, 'raw_content': None}, {'title': 'What is artificial intelligence (AI)? - IBM', 'url': 'https://www.ibm.com/think/topics/artificial-intelligence', 'content': 'Directly underneath AI, we have machine learning, which involves creating [models](https://www.ibm.com/think/topics/ai-model) by training an algorithm to make predictions or decisions based on data. - [Semi-supervised learning](https://www.ibm.com/think/topics/semi-supervised-learning), which combines supervised and unsupervised learning by using both labeled and unlabeled data to train AI models for classification and regression tasks. Organizations can mitigate these risks by protecting [data integrity](https://www.ibm.com/think/topics/data-integrity) and implementing security and availability throughout the entire AI lifecycle, from development to training and deployment and postdeployment. For example, [biased training data](https://www.ibm.com/think/topics/ai-bias) used for hiring decisions might reinforce gender or racial stereotypes and create AI models that favor certain demographic groups over others. [Explainable AI](https://www.ibm.com/think/topics/explainable-ai?) is a set of processes and methods that enables human users to interpret, comprehend and trust the results and output created by algorithms.', 'score': 0.6964752, 'raw_content': None}, {'title': 'Artificial intelligence (AI) | Definition, Examples, Types ...', 'url': 'https://www.britannica.com/technology/artificial-intelligence', 'content': '[artificial intelligence](https://www.britannica.com/technology/artificial-intelligence) [References & Edit History](https://www.britannica.com/technology/artificial-intelligence/additional-info) [Images & Videos](https://www.britannica.com/technology/artificial-intelligence/images-videos) [Article History](https://www.britannica.com/technology/artificial-intelligence/additional-info#history) [Learn more.](https://www.britannica.com/topic/Artificial-Intelligence-AI-At-a-Glance-2235722) No, artificial intelligence and [machine learning](https://www.britannica.com/technology/machine-learning) are not the same, but they are closely related. **artificial intelligence (AI)**, the ability of a digital [computer](https://www.britannica.com/technology/computer) or computer-controlled [robot](https://www.britannica.com/technology/robot-technology) to perform tasks commonly associated with intelligent beings. On the other hand, some programs have attained the performance levels of human experts and professionals in executing certain specific tasks, so that artificial intelligence in this limited sense is found in applications as [diverse](https://www.merriam-webster.com/dictionary/diverse) as medical [diagnosis](https://www.merriam-webster.com/dictionary/diagnosis), computer [search engines](https://www.britannica.com/technology/search-engine), voice or handwriting recognition, and [chatbots](https://www.britannica.com/topic/chatbot). - **[Is Artificial Intelligence Good for Society?](https://www.britannica.com/procon/artificial-intelligence-AI-debate)** Research in AI has focused chiefly on the following components of intelligence: learning, reasoning, [problem solving](https://www.britannica.com/science/problem-solving), [perception](https://www.britannica.com/topic/perception), and using language. *Encyclopedia Britannica*, 9 May. 2025, https://www.britannica.com/technology/artificial-intelligence. <https://www.britannica.com/technology/artificial-intelligence>', 'score': 0.6917478, 'raw_content': None}, {'title': 'What Is Artificial Intelligence? Definition, Uses, and Types', 'url': 'https://www.coursera.org/articles/what-is-artificial-intelligence', 'content': 'Yet, despite the many philosophical disagreements over whether “true” intelligent machines actually exist, when most people use the term AI today, they’re referring to a suite of machine learning-powered technologies, such as Chat GPT or computer vision, that enable machines to perform tasks that previously only humans can do like generating written content, steering a car, or analyzing data. Generative AI is a kind of artificial intelligence capable of producing original content, such as written text or images, in response to user inputs or \"prompts.\" Generative models are also known as large language models (LLMs) because they\\'re essentially complex, deep learning models trained on vast amounts of data that can be interacted with using normal human language rather than technical jargon.', 'score': 0.6651719, 'raw_content': None}, {'title': 'What is Artificial Intelligence? - NASA', 'url': 'https://www.nasa.gov/what-is-artificial-intelligence/', 'content': '- NASA NASA+ About NASA NASA+ ### About NASA NASA+ 6 min read ### NASA’s Webb Lifts Veil on Common but Mysterious Type of Exoplanet article 16 mins ago 2 min read ### Hubble Images a Peculiar Spiral article 3 days ago 6 min read ### NASA’s SPHEREx Space Telescope Begins Capturing Entire Sky article 4 days ago 4 min read ### Robots, Rovers, and Regolith: NASA Brings Exploration to FIRST Robotics 2025 article 6 days ago 5 min read ### NASA’s Lunar Drill Technology Passes Tests on the Moon article 6 days ago 2 min read ### NASA Technology Enables Leaps in Artificial Intelligence article 6 days ago 5 min read ### NASA’s Lunar Drill Technology Passes Tests on the Moon article 6 days ago 3 min read ### Help Classify Galaxies Seen by NASA’s James Webb Space Telescope! NASA+ About NASA', 'score': 0.1137077, 'raw_content': None}], 'response_time': 1.8}\n"
          ]
        }
      ]
    },
    {
      "cell_type": "code",
      "source": [
        "pip install gradio"
      ],
      "metadata": {
        "colab": {
          "base_uri": "https://localhost:8080/"
        },
        "id": "CfuPt3QWnpOM",
        "outputId": "69213177-92ad-40a1-efc9-2c5cf6c5edab"
      },
      "execution_count": 7,
      "outputs": [
        {
          "output_type": "stream",
          "name": "stdout",
          "text": [
            "Requirement already satisfied: gradio in /usr/local/lib/python3.11/dist-packages (5.29.1)\n",
            "Requirement already satisfied: aiofiles<25.0,>=22.0 in /usr/local/lib/python3.11/dist-packages (from gradio) (24.1.0)\n",
            "Requirement already satisfied: anyio<5.0,>=3.0 in /usr/local/lib/python3.11/dist-packages (from gradio) (4.9.0)\n",
            "Requirement already satisfied: fastapi<1.0,>=0.115.2 in /usr/local/lib/python3.11/dist-packages (from gradio) (0.115.12)\n",
            "Requirement already satisfied: ffmpy in /usr/local/lib/python3.11/dist-packages (from gradio) (0.5.0)\n",
            "Requirement already satisfied: gradio-client==1.10.1 in /usr/local/lib/python3.11/dist-packages (from gradio) (1.10.1)\n",
            "Requirement already satisfied: groovy~=0.1 in /usr/local/lib/python3.11/dist-packages (from gradio) (0.1.2)\n",
            "Requirement already satisfied: httpx>=0.24.1 in /usr/local/lib/python3.11/dist-packages (from gradio) (0.28.1)\n",
            "Requirement already satisfied: huggingface-hub>=0.28.1 in /usr/local/lib/python3.11/dist-packages (from gradio) (0.31.2)\n",
            "Requirement already satisfied: jinja2<4.0 in /usr/local/lib/python3.11/dist-packages (from gradio) (3.1.6)\n",
            "Requirement already satisfied: markupsafe<4.0,>=2.0 in /usr/local/lib/python3.11/dist-packages (from gradio) (3.0.2)\n",
            "Requirement already satisfied: numpy<3.0,>=1.0 in /usr/local/lib/python3.11/dist-packages (from gradio) (2.0.2)\n",
            "Requirement already satisfied: orjson~=3.0 in /usr/local/lib/python3.11/dist-packages (from gradio) (3.10.18)\n",
            "Requirement already satisfied: packaging in /usr/local/lib/python3.11/dist-packages (from gradio) (24.2)\n",
            "Requirement already satisfied: pandas<3.0,>=1.0 in /usr/local/lib/python3.11/dist-packages (from gradio) (2.2.2)\n",
            "Requirement already satisfied: pillow<12.0,>=8.0 in /usr/local/lib/python3.11/dist-packages (from gradio) (11.2.1)\n",
            "Requirement already satisfied: pydantic<2.12,>=2.0 in /usr/local/lib/python3.11/dist-packages (from gradio) (2.11.4)\n",
            "Requirement already satisfied: pydub in /usr/local/lib/python3.11/dist-packages (from gradio) (0.25.1)\n",
            "Requirement already satisfied: python-multipart>=0.0.18 in /usr/local/lib/python3.11/dist-packages (from gradio) (0.0.20)\n",
            "Requirement already satisfied: pyyaml<7.0,>=5.0 in /usr/local/lib/python3.11/dist-packages (from gradio) (6.0.2)\n",
            "Requirement already satisfied: ruff>=0.9.3 in /usr/local/lib/python3.11/dist-packages (from gradio) (0.11.10)\n",
            "Requirement already satisfied: safehttpx<0.2.0,>=0.1.6 in /usr/local/lib/python3.11/dist-packages (from gradio) (0.1.6)\n",
            "Requirement already satisfied: semantic-version~=2.0 in /usr/local/lib/python3.11/dist-packages (from gradio) (2.10.0)\n",
            "Requirement already satisfied: starlette<1.0,>=0.40.0 in /usr/local/lib/python3.11/dist-packages (from gradio) (0.46.2)\n",
            "Requirement already satisfied: tomlkit<0.14.0,>=0.12.0 in /usr/local/lib/python3.11/dist-packages (from gradio) (0.13.2)\n",
            "Requirement already satisfied: typer<1.0,>=0.12 in /usr/local/lib/python3.11/dist-packages (from gradio) (0.15.3)\n",
            "Requirement already satisfied: typing-extensions~=4.0 in /usr/local/lib/python3.11/dist-packages (from gradio) (4.13.2)\n",
            "Requirement already satisfied: uvicorn>=0.14.0 in /usr/local/lib/python3.11/dist-packages (from gradio) (0.34.2)\n",
            "Requirement already satisfied: fsspec in /usr/local/lib/python3.11/dist-packages (from gradio-client==1.10.1->gradio) (2025.3.2)\n",
            "Requirement already satisfied: websockets<16.0,>=10.0 in /usr/local/lib/python3.11/dist-packages (from gradio-client==1.10.1->gradio) (15.0.1)\n",
            "Requirement already satisfied: idna>=2.8 in /usr/local/lib/python3.11/dist-packages (from anyio<5.0,>=3.0->gradio) (3.10)\n",
            "Requirement already satisfied: sniffio>=1.1 in /usr/local/lib/python3.11/dist-packages (from anyio<5.0,>=3.0->gradio) (1.3.1)\n",
            "Requirement already satisfied: certifi in /usr/local/lib/python3.11/dist-packages (from httpx>=0.24.1->gradio) (2025.4.26)\n",
            "Requirement already satisfied: httpcore==1.* in /usr/local/lib/python3.11/dist-packages (from httpx>=0.24.1->gradio) (1.0.9)\n",
            "Requirement already satisfied: h11>=0.16 in /usr/local/lib/python3.11/dist-packages (from httpcore==1.*->httpx>=0.24.1->gradio) (0.16.0)\n",
            "Requirement already satisfied: filelock in /usr/local/lib/python3.11/dist-packages (from huggingface-hub>=0.28.1->gradio) (3.18.0)\n",
            "Requirement already satisfied: requests in /usr/local/lib/python3.11/dist-packages (from huggingface-hub>=0.28.1->gradio) (2.32.3)\n",
            "Requirement already satisfied: tqdm>=4.42.1 in /usr/local/lib/python3.11/dist-packages (from huggingface-hub>=0.28.1->gradio) (4.67.1)\n",
            "Requirement already satisfied: python-dateutil>=2.8.2 in /usr/local/lib/python3.11/dist-packages (from pandas<3.0,>=1.0->gradio) (2.9.0.post0)\n",
            "Requirement already satisfied: pytz>=2020.1 in /usr/local/lib/python3.11/dist-packages (from pandas<3.0,>=1.0->gradio) (2025.2)\n",
            "Requirement already satisfied: tzdata>=2022.7 in /usr/local/lib/python3.11/dist-packages (from pandas<3.0,>=1.0->gradio) (2025.2)\n",
            "Requirement already satisfied: annotated-types>=0.6.0 in /usr/local/lib/python3.11/dist-packages (from pydantic<2.12,>=2.0->gradio) (0.7.0)\n",
            "Requirement already satisfied: pydantic-core==2.33.2 in /usr/local/lib/python3.11/dist-packages (from pydantic<2.12,>=2.0->gradio) (2.33.2)\n",
            "Requirement already satisfied: typing-inspection>=0.4.0 in /usr/local/lib/python3.11/dist-packages (from pydantic<2.12,>=2.0->gradio) (0.4.0)\n",
            "Requirement already satisfied: click>=8.0.0 in /usr/local/lib/python3.11/dist-packages (from typer<1.0,>=0.12->gradio) (8.2.0)\n",
            "Requirement already satisfied: shellingham>=1.3.0 in /usr/local/lib/python3.11/dist-packages (from typer<1.0,>=0.12->gradio) (1.5.4)\n",
            "Requirement already satisfied: rich>=10.11.0 in /usr/local/lib/python3.11/dist-packages (from typer<1.0,>=0.12->gradio) (13.9.4)\n",
            "Requirement already satisfied: six>=1.5 in /usr/local/lib/python3.11/dist-packages (from python-dateutil>=2.8.2->pandas<3.0,>=1.0->gradio) (1.17.0)\n",
            "Requirement already satisfied: markdown-it-py>=2.2.0 in /usr/local/lib/python3.11/dist-packages (from rich>=10.11.0->typer<1.0,>=0.12->gradio) (3.0.0)\n",
            "Requirement already satisfied: pygments<3.0.0,>=2.13.0 in /usr/local/lib/python3.11/dist-packages (from rich>=10.11.0->typer<1.0,>=0.12->gradio) (2.19.1)\n",
            "Requirement already satisfied: charset-normalizer<4,>=2 in /usr/local/lib/python3.11/dist-packages (from requests->huggingface-hub>=0.28.1->gradio) (3.4.2)\n",
            "Requirement already satisfied: urllib3<3,>=1.21.1 in /usr/local/lib/python3.11/dist-packages (from requests->huggingface-hub>=0.28.1->gradio) (2.4.0)\n",
            "Requirement already satisfied: mdurl~=0.1 in /usr/local/lib/python3.11/dist-packages (from markdown-it-py>=2.2.0->rich>=10.11.0->typer<1.0,>=0.12->gradio) (0.1.2)\n"
          ]
        }
      ]
    },
    {
      "cell_type": "code",
      "source": [
        "import gradio as gr\n",
        "from tavily import TavilyClient\n",
        "\n",
        "# ⚠️ In production, keep your key in an environment variable\n",
        "tavily_client = TavilyClient(api_key=\"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\")\n",
        "\n",
        "def search_tavily(query: str) -> str:\n",
        "    \"\"\"\n",
        "    Run a Tavily web search and return the AI‑generated summary.\n",
        "    Falls back to concatenated snippets if, for some reason,\n",
        "    'answer' is not present in the response.\n",
        "    \"\"\"\n",
        "    try:\n",
        "        # Ask Tavily for up to 5 results **and** an LLM summary\n",
        "        response = tavily_client.search(\n",
        "            query,\n",
        "            max_results=5,\n",
        "            include_answer=True          # <-- the important line\n",
        "        )\n",
        "\n",
        "        # Preferred: Tavily’s own answer summary\n",
        "        if summary := response.get(\"answer\"):\n",
        "            return summary.strip()\n",
        "\n",
        "        # Fallback: stitch together the content snippets ourselves\n",
        "        snippets = [\n",
        "            f\"• {item['content'].strip()}\"\n",
        "            for item in response.get(\"results\", [])\n",
        "            if item.get(\"content\")\n",
        "        ]\n",
        "        return \"\\n\".join(snippets) or \"No summary available.\"\n",
        "    except Exception as e:\n",
        "        return f\"❌ Error: {e}\"\n",
        "\n",
        "# Gradio interface\n",
        "gr.Interface(\n",
        "    fn=search_tavily,\n",
        "    inputs=gr.Textbox(\n",
        "        label=\"Search Query\",\n",
        "        placeholder=\"e.g., Who is Leo Messi?\"\n",
        "    ),\n",
        "    outputs=gr.Markdown(label=\"Summary\"),\n",
        "    title=\"🌐 Tavily Real‑Time Search\",\n",
        "    description=\"Ask anything — get a concise AI‑generated answer powered by Tavily Search.\"\n",
        ").launch()\n"
      ],
      "metadata": {
        "colab": {
          "base_uri": "https://localhost:8080/",
          "height": 650
        },
        "id": "KsTria0cnw-d",
        "outputId": "64efa52e-cde1-48a5-df0a-891e6e8ab971"
      },
      "execution_count": 9,
      "outputs": [
        {
          "output_type": "stream",
          "name": "stdout",
          "text": [
            "It looks like you are running Gradio on a hosted a Jupyter notebook. For the Gradio app to work, sharing must be enabled. Automatically setting `share=True` (you can turn this off by setting `share=False` in `launch()` explicitly).\n",
            "\n",
            "Colab notebook detected. To show errors in colab notebook, set debug=True in launch()\n",
            "* Running on public URL: https://92abf246e7de5c9964.gradio.live\n",
            "\n",
            "This share link expires in 1 week. For free permanent hosting and GPU upgrades, run `gradio deploy` from the terminal in the working directory to deploy to Hugging Face Spaces (https://huggingface.co/spaces)\n"
          ]
        },
        {
          "output_type": "display_data",
          "data": {
            "text/plain": [
              "<IPython.core.display.HTML object>"
            ],
            "text/html": [
              "<div><iframe src=\"https://92abf246e7de5c9964.gradio.live\" width=\"100%\" height=\"500\" allow=\"autoplay; camera; microphone; clipboard-read; clipboard-write;\" frameborder=\"0\" allowfullscreen></iframe></div>"
            ]
          },
          "metadata": {}
        },
        {
          "output_type": "execute_result",
          "data": {
            "text/plain": []
          },
          "metadata": {},
          "execution_count": 9
        }
      ]
    }
  ]
}